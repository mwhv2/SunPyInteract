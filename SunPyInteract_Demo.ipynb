{
 "cells": [
  {
   "cell_type": "markdown",
   "id": "74d306c8",
   "metadata": {},
   "source": [
    "# SunPy Interact"
   ]
  },
  {
   "cell_type": "markdown",
   "id": "e3404ece",
   "metadata": {},
   "source": [
    "[SunPy Interact](https://github.com/mwhv2/SunPyInteract) is an experimental script that combines the interactive plotting power of [Plotly](https://plotly.com/python/) with SunPy Map and Timeseries objects. As this is an experiment, it is not guaranteed to work flawlessly. Instead, this script should serve as a thorough introduction to how Plotly can be used to provide a richer experience when inspecting and visualizing data in SunPy. The script can be freely modified and edited (please credit me).\n",
    "\n",
    "Matt Wentzel-Long"
   ]
  },
  {
   "cell_type": "code",
   "execution_count": null,
   "id": "6e298872",
   "metadata": {},
   "outputs": [],
   "source": [
    "import sunpy.data.sample\n",
    "import sunpy.map\n",
    "from sunpy.timeseries import TimeSeries\n",
    "from sunpy.net import Fido\n",
    "from sunpy.net import attrs as a\n",
    "\n",
    "from SunPyInteract import plotly_map, plotly_ts, ts_summary\n",
    "import astropy.units as u"
   ]
  },
  {
   "cell_type": "markdown",
   "id": "c98379f6",
   "metadata": {},
   "source": [
    "## Map Objects"
   ]
  },
  {
   "cell_type": "markdown",
   "id": "4b934736",
   "metadata": {},
   "source": [
    "The Plotly Express function [Imshow](https://plotly.com/python/imshow/) is used to create a Map plot similar to that of matplotlib. Currently, this plotting function works best with full disk maps."
   ]
  },
  {
   "cell_type": "markdown",
   "id": "5ee9c238",
   "metadata": {},
   "source": [
    "Import some sample data"
   ]
  },
  {
   "cell_type": "code",
   "execution_count": null,
   "id": "87675b38",
   "metadata": {},
   "outputs": [],
   "source": [
    "aia171 = sunpy.map.Map(sunpy.data.sample.AIA_171_IMAGE)\n",
    "aia193 = sunpy.map.Map(sunpy.data.sample.AIA_193_IMAGE)"
   ]
  },
  {
   "cell_type": "markdown",
   "id": "16abbf20",
   "metadata": {},
   "source": [
    " To display a Map object, use the `plotly_map` function. Just as in regular [Map plotting](https://docs.sunpy.org/en/stable/generated/gallery/plotting/aia_example.html),\n",
    " a clip interval should be specified to scale the image data (no units needed here). \n",
    " Plotly scaling is different from that of matplotlib, so a similar clip_interval\n",
    " will not look the same as the SunPy plot functions. \n",
    " \n",
    " Moving your cursor over the image will display the individual HPC coordinates of each plotted pixel.\n",
    " The menu at the top right allows you to switch between zoom, panning, and other cursor modes."
   ]
  },
  {
   "cell_type": "code",
   "execution_count": null,
   "id": "d3ab0a00",
   "metadata": {},
   "outputs": [],
   "source": [
    "plotly_map(aia171,clip_interval=(1,99))"
   ]
  },
  {
   "cell_type": "markdown",
   "id": "dd17d03d",
   "metadata": {},
   "source": [
    " The contours function of Map objects is built into the `plotly_map` function as an argument. \n",
    " Just specificy the intensity threshold (no units needed). The contours are overlayed as red lines. The hover\n",
    " info shows the HPC coordinates of the individual contour (the \"trace #\" in the hover info \n",
    " refers to the set of data Plotly has plotted; so, \"trace 3\" means the third contour plotted). See [this page](https://plotly.com/python/figure-structure/#figures-as-trees-of-attributes) for information about Plotly's figure data structure. \n",
    " Compare this plot to the SunPy example: [Finding contours of a map](https://docs.sunpy.org/en/stable/generated/gallery/map/map_contouring.html)"
   ]
  },
  {
   "cell_type": "code",
   "execution_count": null,
   "id": "6ee8c291",
   "metadata": {},
   "outputs": [],
   "source": [
    "plotly_map(aia193, clip_interval=(1,99), contours=50000)"
   ]
  },
  {
   "cell_type": "markdown",
   "id": "b1bba93e",
   "metadata": {},
   "source": [
    "You can also overlay a heliographic Stonyhurst coordinate (HGS) grid by setting `draw_grid=True`.\n",
    "The central meridian (HGS zero longitude) and equator are slightly thicker than the other grid lines. \n",
    "Your cursor will snap to the coordinates of each meridian or parallel when you get near it. \n",
    "The hover info also includes heliographic Carrington coordinates (HGC). \n",
    "\n",
    "The individual gridlines are calculated following the method outlined in this SunPy example: [Drawing heliographic longitude and latitude lines](https://docs.sunpy.org/en/stable/generated/gallery/plotting/lat_lon_lines.html)"
   ]
  },
  {
   "cell_type": "code",
   "execution_count": null,
   "id": "d0af5061",
   "metadata": {
    "scrolled": false
   },
   "outputs": [],
   "source": [
    "plotly_map(aia171, clip_interval=(1,99), draw_grid=True)"
   ]
  },
  {
   "cell_type": "markdown",
   "id": "c5a44528",
   "metadata": {},
   "source": [
    "The `plotly_map` function can overlay the solar limb as a blue line on a Map by setting `draw_limb=True`. "
   ]
  },
  {
   "cell_type": "code",
   "execution_count": null,
   "id": "d0e46e56",
   "metadata": {},
   "outputs": [],
   "source": [
    "plotly_map(aia171, draw_limb=True)"
   ]
  },
  {
   "cell_type": "markdown",
   "id": "0ccd9e87",
   "metadata": {},
   "source": [
    "It can also draw the limb from the viewpoint of another Map by setting `draw_limb` equal to the observer of the other Map. In the example below, an AIA map is downloaded from two months after the AIA_171_IMAGE sample data. The hidden part of the solar limb is represented as less opaque blue dots."
   ]
  },
  {
   "cell_type": "code",
   "execution_count": null,
   "id": "1b05e3aa",
   "metadata": {},
   "outputs": [],
   "source": [
    "q = Fido.search(a.Time('2011-08-01T00:00:00', '2011-08-01T00:00:11'),\n",
    "                a.Instrument('AIA'),\n",
    "                a.Wavelength(wavemin=171*u.angstrom, wavemax=171*u.angstrom))"
   ]
  },
  {
   "cell_type": "code",
   "execution_count": null,
   "id": "47d3bb94",
   "metadata": {},
   "outputs": [],
   "source": [
    "download = Fido.fetch(q)\n",
    "aia171_8 = sunpy.map.Map(download)"
   ]
  },
  {
   "cell_type": "code",
   "execution_count": null,
   "id": "4035f74a",
   "metadata": {},
   "outputs": [],
   "source": [
    "observer = aia171_8.center.observer\n",
    "plotly_map(aia171, draw_limb=observer)"
   ]
  },
  {
   "cell_type": "markdown",
   "id": "83392767",
   "metadata": {},
   "source": [
    "For maps with higher angular resolution than the sample data maps, the `resample` argument of `plotly_map` can be passed dimensions to resample the given map. This can result in a smoother interactive interface."
   ]
  },
  {
   "cell_type": "code",
   "execution_count": null,
   "id": "2016c79e",
   "metadata": {},
   "outputs": [],
   "source": [
    "print(aia171_8.data.shape)\n",
    "plotly_map(aia171_8, draw_grid=True, resample=[2048,2048])"
   ]
  },
  {
   "cell_type": "markdown",
   "id": "c136b170",
   "metadata": {},
   "source": [
    "You can pass the `plotly_map` function a colorscale to apply to the image.\n",
    "Caution, this will slow down the interactivity of the plot especially for large Maps.\n",
    "Here is a link to Plotly's built-in colorscales, which can also be customized:\n",
    "https://plotly.com/python/builtin-colorscales/\n",
    "\n",
    "For example, the scale below is based on the sequential scale \"solar\", except the \n",
    "darkest color has been replaced with black."
   ]
  },
  {
   "cell_type": "code",
   "execution_count": null,
   "id": "48cc9e31",
   "metadata": {},
   "outputs": [],
   "source": [
    "cscale = ['rgb(0, 0, 0)', 'rgb(79, 28, 33)', 'rgb(108, 36, 36)', 'rgb(135, 47, 32)', \n",
    "              'rgb(157, 66, 25)', 'rgb(174, 88, 20)', 'rgb(188, 111, 19)', 'rgb(199, 137, 22)', \n",
    "              'rgb(209, 164, 32)', 'rgb(217, 192, 44)', 'rgb(222, 222, 59)']\n",
    "plotly_map(aia171, clip_interval=(1,99),color_scale=cscale)"
   ]
  },
  {
   "cell_type": "markdown",
   "id": "bb3d77cb",
   "metadata": {},
   "source": [
    "There's also `summary` argument which displays an information table next to the interactive plot. "
   ]
  },
  {
   "cell_type": "code",
   "execution_count": null,
   "id": "dc93c7b7",
   "metadata": {},
   "outputs": [],
   "source": [
    " plotly_map(aia171, clip_interval=(1,99), summary=True, draw_grid=True)"
   ]
  },
  {
   "cell_type": "markdown",
   "id": "9d37c13c",
   "metadata": {},
   "source": [
    "`plotly_map` also works with heliographic maps. Note: currently only pixel coordinates are provided. `draw_limb` cannot yet be used with heliographic maps. Also, `summary` does not work with heliographic maps. Compare this to: [Creating a Heliographic Map](https://docs.sunpy.org/en/stable/generated/gallery/map_transformations/reprojection_heliographic_stonyhurst.html)."
   ]
  },
  {
   "cell_type": "code",
   "execution_count": null,
   "id": "0b6bd8f2",
   "metadata": {},
   "outputs": [],
   "source": [
    "from astropy.coordinates import SkyCoord\n",
    "shape_out = (720, 1440)\n",
    "frame_out = SkyCoord(0, 0, unit=u.deg,\n",
    "                     frame=\"heliographic_carrington\",\n",
    "                     observer=aia193.observer_coordinate,\n",
    "                     obstime=aia193.date,\n",
    "                     rsun=aia193.coordinate_frame.rsun)\n",
    "header = sunpy.map.make_fitswcs_header(shape_out,\n",
    "                                       frame_out,\n",
    "                                       scale=(360 / shape_out[1],\n",
    "                                              180 / shape_out[0]) * u.deg / u.pix,\n",
    "                                       projection_code=\"CAR\")\n",
    "outmap = aia193.reproject_to(header)"
   ]
  },
  {
   "cell_type": "code",
   "execution_count": null,
   "id": "d7cc2264",
   "metadata": {},
   "outputs": [],
   "source": [
    "plotly_map(outmap)"
   ]
  },
  {
   "cell_type": "markdown",
   "id": "571b155e",
   "metadata": {},
   "source": [
    "Last, but not least, there is a `draw` argument in `plotly_map` that overlays a drawing plane over the map. This allows you draw lines, circles, boxes, and other shapes on top of the map. Set draw equal to a color. You can switch between drawing modes using the menu in the upper right corner."
   ]
  },
  {
   "cell_type": "code",
   "execution_count": null,
   "id": "9182c363",
   "metadata": {},
   "outputs": [],
   "source": [
    "plotly_map(aia171, clip_interval=(1,99), draw='orange')"
   ]
  },
  {
   "cell_type": "markdown",
   "id": "0d39d27a",
   "metadata": {},
   "source": [
    "## TimeSeries Objects"
   ]
  },
  {
   "cell_type": "markdown",
   "id": "27fef0ca",
   "metadata": {},
   "source": [
    "TimeSeries data is plotted using the Plotly function [Scatter](https://plotly.com/python/line-and-scatter/#scatter-and-line-plots-with-goscatter) (specifically, this uses the Plotly [Graph Objects class](https://plotly.com/python/graph-objects/) instead of the Plotly Express module)."
   ]
  },
  {
   "cell_type": "markdown",
   "id": "a8e147f6",
   "metadata": {},
   "source": [
    "First, load some sample data."
   ]
  },
  {
   "cell_type": "code",
   "execution_count": null,
   "id": "834e1b82",
   "metadata": {},
   "outputs": [],
   "source": [
    "goes_lc = TimeSeries(sunpy.data.sample.GOES_XRS_TIMESERIES)\n",
    "gbm = TimeSeries(sunpy.data.sample.GBM_TIMESERIES, source='GBMSummary')"
   ]
  },
  {
   "cell_type": "markdown",
   "id": "95cc0a58",
   "metadata": {},
   "source": [
    "`plotly_ts` will plot all channels of data on the same figure. \n",
    "You can toggle data by clicking on the channel name in the legend\n",
    "and zoom/pan around by selecting the cursor modes in the top right."
   ]
  },
  {
   "cell_type": "code",
   "execution_count": null,
   "id": "23d3477f",
   "metadata": {},
   "outputs": [],
   "source": [
    "plotly_ts(goes_lc)"
   ]
  },
  {
   "cell_type": "markdown",
   "id": "3ee0d362",
   "metadata": {},
   "source": [
    "The `peaks` argument will find peaks for all channels in the timeseries object, given\n",
    "a minimum difference value that defines a peak.\n",
    "The hover info will display the time and date as well as the max/min flux values.\n",
    "Compare to the following SunPy example from which the findpeaks function is taken: [Find Peaks in sunpy TimeSeries](https://docs.sunpy.org/en/stable/generated/gallery/time_series/timeseries_peak_finding.html)"
   ]
  },
  {
   "cell_type": "code",
   "execution_count": null,
   "id": "9eda2437",
   "metadata": {},
   "outputs": [],
   "source": [
    "my_ts = goes_lc.truncate('2011/06/07 06:10', '2011/06/07 09:00')\n",
    "plotly_ts(my_ts, peaks=1e-7)"
   ]
  },
  {
   "cell_type": "markdown",
   "id": "7b00dcf2",
   "metadata": {},
   "source": [
    "The `gradient` argument of `plotly_ts` will take the NumPy gradient for each channel\n",
    "in a TimeSeries. First, download some GOES 15 data."
   ]
  },
  {
   "cell_type": "code",
   "execution_count": null,
   "id": "765d068a",
   "metadata": {},
   "outputs": [],
   "source": [
    "tstart = \"2015-06-21 01:00\"\n",
    "tend = \"2015-06-21 23:00\"\n",
    "result_goes15 = Fido.search(a.Time(tstart, tend), a.Instrument(\"XRS\"), a.goes.SatelliteNumber(15))\n",
    "file_goes15 = Fido.fetch(result_goes15)\n",
    "goes_15 = TimeSeries(file_goes15)\n",
    "goes_15 = goes_15.remove_column(\"xrsa_quality\")\n",
    "goes_15 = goes_15.remove_column(\"xrsb_quality\")"
   ]
  },
  {
   "cell_type": "markdown",
   "id": "5e32ae27",
   "metadata": {},
   "source": [
    "Now truncate the TimeSeries around a flare, and plot the gradients.\n",
    "Compare this to the following SunPy example: [Retrieving and analyzing GOES X-Ray Sensor (XRS) data](https://docs.sunpy.org/en/stable/generated/gallery/acquiring_data/goes_xrs_example.html)"
   ]
  },
  {
   "cell_type": "code",
   "execution_count": null,
   "id": "6d9acec3",
   "metadata": {},
   "outputs": [],
   "source": [
    "goes_flare = goes_15.truncate(\"2015-06-21 09:35\", \"2015-06-21 10:30\")\n",
    "plotly_ts(goes_flare, gradient=True)"
   ]
  },
  {
   "cell_type": "markdown",
   "id": "8223d84c",
   "metadata": {},
   "source": [
    "The power spectrum of each channel can be plotted using the `power_spec` argument. This uses [Scipy's periodogram](https://docs.scipy.org/doc/scipy/reference/generated/scipy.signal.periodogram.html) function to calculate the spectrum. Set `power_spec` equal to the sampling frequency. Compare to the following SunPy example: [Making a power spectrum from a TimeSeries](https://docs.sunpy.org/en/stable/generated/gallery/time_series/power_spectra_example.html)"
   ]
  },
  {
   "cell_type": "code",
   "execution_count": null,
   "id": "7ec508b8",
   "metadata": {},
   "outputs": [],
   "source": [
    "plotly_ts(goes_lc, power_spec=0.25)"
   ]
  },
  {
   "cell_type": "markdown",
   "id": "7f73ca9e",
   "metadata": {},
   "source": [
    "The `ts_summary` function provides an interactive summary of the timeseries\n",
    "object. This can be especially useful for inspecting multiple channels of data. \n",
    "Use the dropdown menu in the top left to switch between channels.\n",
    "The histograms are binned according to Scott's rule using the Astropy function:\n",
    "https://docs.astropy.org/en/stable/api/astropy.stats.scott_bin_width.html"
   ]
  },
  {
   "cell_type": "code",
   "execution_count": null,
   "id": "5b58f0c2",
   "metadata": {
    "scrolled": false
   },
   "outputs": [],
   "source": [
    "ts_summary(gbm)"
   ]
  },
  {
   "cell_type": "markdown",
   "id": "482284b6",
   "metadata": {},
   "source": [
    "## The Basic Plotting Process"
   ]
  },
  {
   "cell_type": "markdown",
   "id": "3df20534",
   "metadata": {},
   "source": [
    "In this section, a few short examples will demonstrate the basic plotting steps that `plotly_map` and `plotly_ts` are built on. For more information on the dropdown menus of `ts_summary`, see the official [Dropdown menus in Python](https://plotly.com/python/dropdowns/) page."
   ]
  },
  {
   "cell_type": "markdown",
   "id": "34234d17",
   "metadata": {},
   "source": [
    "###  plotly_map"
   ]
  },
  {
   "cell_type": "markdown",
   "id": "dcc9fd17",
   "metadata": {},
   "source": [
    "The code below creates a basic plot of the AIA171 sample data using `plotly.express.imshow`. Clipping bounds are passed to the `zmin` and `zmax` argmuents, `origin` specifies that the origin of the image is in the lower left corner, and `binary_string` converts the data to a b64 PNG string before being passed to the plotly.js script (see [here](https://plotly.com/python-api-reference/generated/plotly.express.imshow.html) for more details). \n",
    "\n",
    "`plotly_map` uses the same AsymmetricPercentileInterval function for clipping as in SunPy. To change the axes from pixels to another unit, additional arguments for `x` and `y` can be provided (e.g., as NumPy arrays that match the shape of the map). "
   ]
  },
  {
   "cell_type": "code",
   "execution_count": null,
   "id": "b79fd241",
   "metadata": {},
   "outputs": [],
   "source": [
    "import plotly.express as px\n",
    "from astropy.visualization import AsymmetricPercentileInterval\n",
    "\n",
    "clip_interval = (1,99)\n",
    "clip_interval = clip_interval*u.percent\n",
    "clip_percentages = clip_interval.to('%').value\n",
    "vmin, vmax = AsymmetricPercentileInterval(*clip_percentages).get_limits(aia171.data)\n",
    "px.imshow(aia171.data, origin='lower', zmin=vmin, zmax=vmax, binary_string=True, \n",
    "          labels={'x':'Helioprojective Longitude (pixels)',\n",
    "                  'y':'Helioprojective Latitude (pixels)'},\n",
    "          title=\"AIA 171 Plot\")"
   ]
  },
  {
   "cell_type": "markdown",
   "id": "32de107c",
   "metadata": {},
   "source": [
    "### plotly_ts"
   ]
  },
  {
   "cell_type": "markdown",
   "id": "7251ed6d",
   "metadata": {},
   "source": [
    "In this example, `plotly.graph_objects.Scatter` is used to create a basic timeseries plot. `plotly.graph_objects` is the plotting backend that the `plotly.express` API uses. It allows for more customization, but requires a slightly more complicated plotting process.\n",
    "\n",
    "First, the timeseries data is written to a Pandas DataFrame (Plotly communicates with Pandas very well). The Figure base is created next, and a for-loop plots each channel of data on the figure as a [plotly.graph_objects.Scatter](https://plotly.com/python-api-reference/generated/plotly.graph_objects.Scatter.html#plotly.graph_objects.Scatter) plot. Plotly Scatter plots will default to line plots if the density of points becomes high but can be overridden/specified. Then, two commands change the yaxis title and transform it a logarithmic axis. In the `update_layout` command, the specific formatting of the yaxis ticks (powers of ten) is updated and the [hovermode](https://plotly.com/python/hover-text-and-formatting/) is changed to the \"x\" format."
   ]
  },
  {
   "cell_type": "code",
   "execution_count": null,
   "id": "d53a19d4",
   "metadata": {},
   "outputs": [],
   "source": [
    "import plotly.graph_objects as go\n",
    "\n",
    "dat = gbm.to_dataframe()\n",
    "channels = gbm.columns\n",
    "\n",
    "fig = go.Figure()\n",
    "for i in channels:\n",
    "    fig.add_trace(go.Scatter(x=dat.index, y=dat[i], name=i))\n",
    "fig.update_yaxes(type=\"log\", title=gbm.units[channels[0]].to_string())\n",
    "fig.update_layout(yaxis_dtick=\"1\",yaxis_exponentformat=\"power\",\n",
    "                  hovermode=\"x\")\n",
    "fig.show()"
   ]
  },
  {
   "cell_type": "markdown",
   "id": "9778d25a",
   "metadata": {},
   "source": [
    "Lastly, the example below shows the ease of use that `plotly.express` offers for creating a timeseries plot with minimal customization done to the settings. Here, [plotly.express.line](https://plotly.com/python-api-reference/generated/plotly.express.line.html#plotly.express.line) is passed the entire DataFrame defined in the previous example. "
   ]
  },
  {
   "cell_type": "code",
   "execution_count": null,
   "id": "7c1b4e73",
   "metadata": {},
   "outputs": [],
   "source": [
    "px.line(dat, log_y=True, labels={'value':gbm.units[channels[0]].to_string(),\n",
    "                                 'index':'Date'}\n",
    "       )"
   ]
  },
  {
   "cell_type": "code",
   "execution_count": null,
   "id": "26d21a04",
   "metadata": {},
   "outputs": [],
   "source": []
  }
 ],
 "metadata": {
  "kernelspec": {
   "display_name": "Python 3 (ipykernel)",
   "language": "python",
   "name": "python3"
  },
  "language_info": {
   "codemirror_mode": {
    "name": "ipython",
    "version": 3
   },
   "file_extension": ".py",
   "mimetype": "text/x-python",
   "name": "python",
   "nbconvert_exporter": "python",
   "pygments_lexer": "ipython3",
   "version": "3.8.10"
  }
 },
 "nbformat": 4,
 "nbformat_minor": 5
}
